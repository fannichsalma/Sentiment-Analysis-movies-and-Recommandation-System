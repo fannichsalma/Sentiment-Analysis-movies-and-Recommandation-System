{
 "cells": [
  {
   "cell_type": "code",
   "execution_count": 1,
   "id": "f861542d-93b2-49c9-b0b1-2fc0357cfb62",
   "metadata": {},
   "outputs": [
    {
     "name": "stderr",
     "output_type": "stream",
     "text": [
      "<>:12: SyntaxWarning: invalid escape sequence '\\s'\n",
      "<>:12: SyntaxWarning: invalid escape sequence '\\s'\n",
      "C:\\Users\\Salma Fannich\\AppData\\Local\\Temp\\ipykernel_13212\\2564944264.py:12: SyntaxWarning: invalid escape sequence '\\s'\n",
      "  data['Commentaire'] = data['Commentaire'].apply(lambda x: re.sub('[^a-zA-Z0-9\\s]', '', x))\n"
     ]
    },
    {
     "name": "stdout",
     "output_type": "stream",
     "text": [
      "              Film                                        Commentaire\n",
      "0  Project Almanac  the teenager david raskin jonny weston is a ge...\n",
      "1  Project Almanac  project almanac is a sort of the butterfly eff...\n",
      "2  Project Almanac     title brazil projeto almanaque project almanac\n",
      "3  Project Almanac  and this is true of both the characters in the...\n",
      "4  Project Almanac  but throw logic out of the window because this...\n"
     ]
    },
    {
     "data": {
      "text/plain": [
       "Film           0\n",
       "Commentaire    0\n",
       "dtype: int64"
      ]
     },
     "execution_count": 1,
     "metadata": {},
     "output_type": "execute_result"
    }
   ],
   "source": [
    "\n",
    "# Data Cleaning\n",
    "import pandas as pd\n",
    "import re\n",
    "data = pd.read_csv('100_movies_imdb.csv')\n",
    "data['Commentaire'] = data['Commentaire'].apply(lambda x: re.sub('<.*?>', '', x))\n",
    "data['Commentaire'] = data['Commentaire'].apply(lambda x: re.sub('[^a-zA-Z0-9\\s]', '', x))\n",
    "data['Commentaire'] = data['Commentaire'].str.lower()\n",
    "data['Commentaire'] = data['Commentaire'].apply(lambda x: ' '.join(x.split()))\n",
    "print(data.head())\n",
    "data.describe()\n",
    "data.isna().sum()\n"
   ]
  },
  {
   "cell_type": "markdown",
   "id": "1c1fc1e5-6d7d-4eb2-a9f6-4475ef7ae39e",
   "metadata": {},
   "source": [
    "### Informations about our data \n"
   ]
  },
  {
   "cell_type": "code",
   "execution_count": 2,
   "id": "8e8d3b00-4c15-46d3-b106-894af1a5109d",
   "metadata": {},
   "outputs": [
    {
     "name": "stdout",
     "output_type": "stream",
     "text": [
      "<class 'pandas.core.frame.DataFrame'>\n",
      "RangeIndex: 2543 entries, 0 to 2542\n",
      "Data columns (total 2 columns):\n",
      " #   Column       Non-Null Count  Dtype \n",
      "---  ------       --------------  ----- \n",
      " 0   Film         2543 non-null   object\n",
      " 1   Commentaire  2543 non-null   object\n",
      "dtypes: object(2)\n",
      "memory usage: 39.9+ KB\n"
     ]
    }
   ],
   "source": [
    "data.info()"
   ]
  },
  {
   "cell_type": "markdown",
   "id": "8260121e-7712-4b2d-ad15-4c43e4e6e4e4",
   "metadata": {},
   "source": [
    "### deleting the duplicated data "
   ]
  },
  {
   "cell_type": "code",
   "execution_count": 3,
   "id": "252e67bd-6db9-4b4d-96a2-f14c744969e1",
   "metadata": {},
   "outputs": [
    {
     "name": "stdout",
     "output_type": "stream",
     "text": [
      "<class 'pandas.core.frame.DataFrame'>\n",
      "Index: 2541 entries, 0 to 2542\n",
      "Data columns (total 2 columns):\n",
      " #   Column       Non-Null Count  Dtype \n",
      "---  ------       --------------  ----- \n",
      " 0   Film         2541 non-null   object\n",
      " 1   Commentaire  2541 non-null   object\n",
      "dtypes: object(2)\n",
      "memory usage: 59.6+ KB\n",
      "None\n"
     ]
    }
   ],
   "source": [
    "data = data.drop_duplicates()\n",
    "print(data.info())"
   ]
  },
  {
   "cell_type": "markdown",
   "id": "3f2286f9-1961-466d-898e-8640628685ca",
   "metadata": {},
   "source": [
    "### Adding a colone for sentiments of reviews based on our model SVM "
   ]
  },
  {
   "cell_type": "code",
   "execution_count": 4,
   "id": "c9a52ac4-e0a6-48d6-98d8-92ca28ecb74a",
   "metadata": {},
   "outputs": [
    {
     "name": "stdout",
     "output_type": "stream",
     "text": [
      "Pourcentage des sentiments pour chaque classe :\n",
      "Predicted_Sentiment\n",
      "positif    77.113645\n",
      "négatif    15.768777\n",
      "neutre      7.117578\n",
      "Name: proportion, dtype: float64\n"
     ]
    }
   ],
   "source": [
    "import pickle\n",
    "import pandas as pd\n",
    "\n",
    "with open('sentiment_model.pkl', 'rb') as model_file:\n",
    "    loaded_model = pickle.load(model_file)\n",
    "\n",
    "with open('tfidfvectorizer.pkl', 'rb') as vectorizer_file:\n",
    "    loaded_vectorizer = pickle.load(vectorizer_file)\n",
    "\n",
    "data = pd.read_csv('100_movies_imdb.csv')\n",
    "\n",
    "data['Predicted_Sentiment'] = None\n",
    "\n",
    "comments_tfidf = loaded_vectorizer.transform(data['Commentaire'])\n",
    "\n",
    "predicted_sentiments = loaded_model.predict(comments_tfidf)\n",
    "\n",
    "data['Predicted_Sentiment'] = predicted_sentiments\n",
    "sentiment_percentage = data['Predicted_Sentiment'].value_counts(normalize=True) * 100\n",
    "print(\"Pourcentage des sentiments pour chaque classe :\")\n",
    "print(sentiment_percentage)\n"
   ]
  },
  {
   "cell_type": "code",
   "execution_count": 9,
   "id": "634fddff-7340-40df-9b08-d0c11ca1e34a",
   "metadata": {},
   "outputs": [
    {
     "name": "stdout",
     "output_type": "stream",
     "text": [
      "                 Film                                        Commentaire  \\\n",
      "0     Project Almanac  The teenager David Raskin (Jonny Weston) is a ...   \n",
      "1     Project Almanac  \"Project Almanac\" is a sort of \"The Butterfly ...   \n",
      "2     Project Almanac  Title (Brazil): \"Projeto Almanaque\" (\"Project ...   \n",
      "3     Project Almanac  And this is true of both the characters in the...   \n",
      "4     Project Almanac  But throw logic out of the window, because thi...   \n",
      "...               ...                                                ...   \n",
      "2538  Pitch Perfect 2  If you enjoyed the 2012 original, I will surel...   \n",
      "2539  Pitch Perfect 2  The film has new characters which are quite fu...   \n",
      "2540  Pitch Perfect 2  The film does have some plot holes that I noti...   \n",
      "2541  Pitch Perfect 2  The good points, well where do I start! Fat Am...   \n",
      "2542  Pitch Perfect 2  In a surprise hit, pitch perfect managed to sh...   \n",
      "\n",
      "     Predicted_Sentiment  \n",
      "0                négatif  \n",
      "1                négatif  \n",
      "2                 neutre  \n",
      "3                positif  \n",
      "4                positif  \n",
      "...                  ...  \n",
      "2538             positif  \n",
      "2539             positif  \n",
      "2540             négatif  \n",
      "2541             positif  \n",
      "2542             positif  \n",
      "\n",
      "[2543 rows x 3 columns]\n"
     ]
    }
   ],
   "source": [
    "import pickle\n",
    "import pandas as pd\n",
    "\n",
    "with open('sentiment_model.pkl', 'rb') as model_file:\n",
    "    loaded_model = pickle.load(model_file)\n",
    "\n",
    "with open('tfidfvectorizer.pkl', 'rb') as vectorizer_file:\n",
    "    loaded_vectorizer = pickle.load(vectorizer_file)\n",
    "\n",
    "data = pd.read_csv('100_movies_imdb.csv')\n",
    "\n",
    "comments_tfidf = loaded_vectorizer.transform(data['Commentaire'])\n",
    "\n",
    "predicted_sentiments = loaded_model.predict(comments_tfidf)\n",
    "\n",
    "result_data = pd.DataFrame({\n",
    "    'Film': data['Film'],\n",
    "    'Commentaire': data['Commentaire'],\n",
    "    'Predicted_Sentiment': predicted_sentiments\n",
    "})\n",
    "\n",
    "print(result_data)\n",
    "result_data.to_csv('100_movie_sentiment_svm.csv', index=False)\n"
   ]
  },
  {
   "cell_type": "markdown",
   "id": "0c0d3f87-546b-4c8a-9969-5e7491b53f27",
   "metadata": {},
   "source": [
    "### Create new dataframe with movie name and sentiment prediction using our model "
   ]
  },
  {
   "cell_type": "code",
   "execution_count": 10,
   "id": "76d397ed-189d-4ed9-bce0-183f463f302b",
   "metadata": {},
   "outputs": [
    {
     "name": "stdout",
     "output_type": "stream",
     "text": [
      "                                             Commentaire Predicted_Sentiment\n",
      "0      You'll have to have your wits about you and yo...             positif\n",
      "1      One of the most anticipated films of the year ...             positif\n",
      "2      But in many ways, I can't deny it was an excep...             positif\n",
      "3      The film's at its best when it focuses on bein...             positif\n",
      "4      I did really feel the length in the final hour...             positif\n",
      "...                                                  ...                 ...\n",
      "22271  This movie is so underrated. The suspense is r...             positif\n",
      "22272  I don't think a lot of the negative reviewers ...             négatif\n",
      "22273  What does that even have to do with the movie?...             positif\n",
      "22274  How would anybody alive now even know exactly ...             positif\n",
      "22275  I hate to break it to you, but if you actually...             négatif\n",
      "\n",
      "[22276 rows x 2 columns]\n"
     ]
    }
   ],
   "source": [
    "import pickle\n",
    "import pandas as pd\n",
    "\n",
    "with open('sentiment_model.pkl', 'rb') as model_file:\n",
    "    loaded_model = pickle.load(model_file)\n",
    "\n",
    "with open('tfidfvectorizer.pkl', 'rb') as vectorizer_file:\n",
    "    loaded_vectorizer = pickle.load(vectorizer_file)\n",
    "\n",
    "data2 = pd.read_csv('imdb_movies_sentiments_svm.csv')\n",
    "comments_tfidf = loaded_vectorizer.transform(data2['Commentaire'])\n",
    "\n",
    "predicted_sentiments = loaded_model.predict(comments_tfidf)\n",
    "\n",
    "data2['Predicted_Sentiment'] = predicted_sentiments\n",
    "\n",
    "data2.to_csv('imdb_movies_sentiments_svm_with_predictions.csv', index=False)\n",
    "\n",
    "print(data2[['Commentaire', 'Predicted_Sentiment']])\n"
   ]
  },
  {
   "cell_type": "code",
   "execution_count": 13,
   "id": "f7260292-f8ce-430e-974b-5038374a3b45",
   "metadata": {},
   "outputs": [],
   "source": [
    "import pandas as pd\n",
    "data2 = pd.read_csv('imdb_movies_sentiments_svm_with_predictions.csv')\n",
    "data2.drop('Commentaire', axis=1, inplace=True)"
   ]
  },
  {
   "cell_type": "code",
   "execution_count": 14,
   "id": "622f0b6e-f1ed-46d9-9b56-6ecf275c3f72",
   "metadata": {},
   "outputs": [
    {
     "name": "stdout",
     "output_type": "stream",
     "text": [
      "              Film Predicted_Sentiment\n",
      "0      Oppenheimer             positif\n",
      "1      Oppenheimer             positif\n",
      "2      Oppenheimer             positif\n",
      "3      Oppenheimer             positif\n",
      "4      Oppenheimer             positif\n",
      "...            ...                 ...\n",
      "22271   Apocalypto             positif\n",
      "22272   Apocalypto             négatif\n",
      "22273   Apocalypto             positif\n",
      "22274   Apocalypto             positif\n",
      "22275   Apocalypto             négatif\n",
      "\n",
      "[22276 rows x 2 columns]\n"
     ]
    }
   ],
   "source": [
    "import pandas as pd\n",
    "\n",
    "data2 = pd.read_csv('imdb_movies_sentiments_svm_with_predictions.csv')\n",
    "data2.drop('Commentaire', axis=1, inplace=True)\n",
    "print(data2)\n"
   ]
  },
  {
   "cell_type": "markdown",
   "id": "d989f40d-2a96-4842-91e9-e21bea54aebd",
   "metadata": {},
   "source": [
    "### poucentage for each movie sentiment"
   ]
  },
  {
   "cell_type": "code",
   "execution_count": 17,
   "id": "f729ad4d-4390-4da9-94a3-3cc3e245e010",
   "metadata": {},
   "outputs": [
    {
     "name": "stdout",
     "output_type": "stream",
     "text": [
      "Predicted_Sentiment                   Positive_Percentage  \\\n",
      "Film                                                        \n",
      " 2001: A Space Odyssey                              77.19   \n",
      " Ah-ga-ssi                                          79.59   \n",
      " Dunkirk                                            68.75   \n",
      " Ghostbusters                                       82.76   \n",
      " Harry Potter and the Goblet of Fire                66.42   \n",
      "...                                                   ...   \n",
      "Watchmen                                            84.55   \n",
      "Whiplash                                            72.13   \n",
      "Wind River                                          73.03   \n",
      "Zack Snyder's Justice League                        73.85   \n",
      "Zodiac                                              78.85   \n",
      "\n",
      "Predicted_Sentiment                   Negative_Percentage  Neutral_Percentage  \n",
      "Film                                                                           \n",
      " 2001: A Space Odyssey                              18.42                4.39  \n",
      " Ah-ga-ssi                                           6.12               14.29  \n",
      " Dunkirk                                            25.00                6.25  \n",
      " Ghostbusters                                       11.21                6.03  \n",
      " Harry Potter and the Goblet of Fire                27.61                5.97  \n",
      "...                                                   ...                 ...  \n",
      "Watchmen                                            10.91                4.55  \n",
      "Whiplash                                            13.93               13.93  \n",
      "Wind River                                          22.47                4.49  \n",
      "Zack Snyder's Justice League                        12.31               13.85  \n",
      "Zodiac                                              17.31                3.85  \n",
      "\n",
      "[198 rows x 3 columns]\n"
     ]
    }
   ],
   "source": [
    "import pandas as pd\n",
    "\n",
    "\n",
    "data2 = pd.read_csv('imdb_movies_sentiments_svm_with_predictions.csv')\n",
    "sentiment_percentages = data2.groupby(['Film', 'Predicted_Sentiment']).size().unstack(fill_value=0)\n",
    "sentiment_percentages['Total'] = sentiment_percentages.sum(axis=1)\n",
    "\n",
    "#  le pourcentage de chaque sentiment par film\n",
    "sentiment_percentages['Positive_Percentage'] = sentiment_percentages['positif'] / sentiment_percentages['Total'] * 100\n",
    "sentiment_percentages['Negative_Percentage'] = sentiment_percentages['négatif'] / sentiment_percentages['Total'] * 100\n",
    "sentiment_percentages['Neutral_Percentage'] = sentiment_percentages['neutre'] / sentiment_percentages['Total'] * 100\n",
    "formatted_percentages = sentiment_percentages[['Positive_Percentage', 'Negative_Percentage', 'Neutral_Percentage']].round(2)\n",
    "print(formatted_percentages)\n"
   ]
  },
  {
   "cell_type": "code",
   "execution_count": 22,
   "id": "0efad4ac-b4ed-4960-b578-8ba2ae18a914",
   "metadata": {},
   "outputs": [
    {
     "name": "stdout",
     "output_type": "stream",
     "text": [
      "Pourcentage de sentiments pour le film 'The Lord of the Rings: The Fellowship of the Ring':\n",
      "Predicted_Sentiment\n",
      "neutre      7.207207\n",
      "négatif     3.603604\n",
      "positif    89.189189\n",
      "dtype: float64\n"
     ]
    }
   ],
   "source": [
    "import pandas as pd\n",
    "\n",
    "data2 = pd.read_csv('imdb_movies_sentiments_svm_with_predictions.csv')\n",
    "\n",
    "film_to_check = \"The Lord of the Rings: The Fellowship of the Ring\"\n",
    "\n",
    "film_data = data2[data2['Film'] == film_to_check]\n",
    "\n",
    "sentiment_percentages = film_data.groupby(['Predicted_Sentiment']).size() / len(film_data) * 100\n",
    "\n",
    "print(f\"Pourcentage de sentiments pour le film '{film_to_check}':\")\n",
    "print(sentiment_percentages)\n"
   ]
  },
  {
   "cell_type": "code",
   "execution_count": null,
   "id": "cd5a3e7e-2cf5-4099-9779-2bf60f76b7a8",
   "metadata": {},
   "outputs": [],
   "source": []
  },
  {
   "cell_type": "code",
   "execution_count": null,
   "id": "74dfb0a4-6bde-4ae6-bd5e-9b4847d27d5f",
   "metadata": {},
   "outputs": [],
   "source": []
  }
 ],
 "metadata": {
  "kernelspec": {
   "display_name": "Python 3 (ipykernel)",
   "language": "python",
   "name": "python3"
  },
  "language_info": {
   "codemirror_mode": {
    "name": "ipython",
    "version": 3
   },
   "file_extension": ".py",
   "mimetype": "text/x-python",
   "name": "python",
   "nbconvert_exporter": "python",
   "pygments_lexer": "ipython3",
   "version": "3.12.0"
  }
 },
 "nbformat": 4,
 "nbformat_minor": 5
}
