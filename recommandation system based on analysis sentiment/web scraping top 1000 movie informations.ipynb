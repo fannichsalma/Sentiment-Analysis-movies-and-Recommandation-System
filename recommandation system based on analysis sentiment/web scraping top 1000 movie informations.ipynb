{
 "cells": [
  {
   "cell_type": "markdown",
   "metadata": {},
   "source": [
    "# <u><b><h1>Web Scraping<h1></b></u>"
   ]
  },
  {
   "cell_type": "markdown",
   "metadata": {},
   "source": [
    "# <u>Creating a dataframe with datas from IMDb top 250 movies<u>"
   ]
  },
  {
   "cell_type": "code",
   "execution_count": 1,
   "metadata": {},
   "outputs": [],
   "source": [
    "import pandas as pd\n",
    "from bs4 import BeautifulSoup\n",
    "import requests\n",
    "from tqdm import tqdm"
   ]
  },
  {
   "cell_type": "markdown",
   "metadata": {},
   "source": [
    "url de notre page"
   ]
  },
  {
   "cell_type": "code",
   "execution_count": 2,
   "metadata": {},
   "outputs": [],
   "source": [
    "\n",
    "url = \"https://www.imdb.com/list/ls098063263/?sort=moviemeter,asc&st_dt=&mode=detail&page=1\""
   ]
  },
  {
   "cell_type": "code",
   "execution_count": 3,
   "metadata": {},
   "outputs": [],
   "source": [
    "def all_page_link(start_url):\n",
    "    all_urls = []\n",
    "    url = start_url\n",
    "    while(url != None):           \n",
    "        all_urls.append(url)\n",
    "        soup = BeautifulSoup(requests.get(url).text,\"html.parser\")\n",
    "        next_links = soup.find_all(class_='flat-button lister-page-next next-page')   \n",
    "        if (len(next_links) == 0):        \n",
    "            url = None\n",
    "        else:\n",
    "            next_page = \"https://www.imdb.com\" + next_links[0].get('href')\n",
    "            url = next_page\n",
    "    return all_urls"
   ]
  },
  {
   "cell_type": "code",
   "execution_count": 4,
   "metadata": {},
   "outputs": [],
   "source": [
    "def director_and_actor(Director_and_star):\n",
    "\n",
    "    Director_and_star =  Director_and_star.replace(\"\\n\",\"\")\n",
    "    Director_and_star = Director_and_star.replace(\"|\",\"\")\n",
    "    Director_and_star = Director_and_star.split(\"Stars:\")\n",
    "    Director_and_star[0] = Director_and_star[0].replace(\"Director:\",\"\")\n",
    "    Director_and_star[0] = Director_and_star[0].replace(\"Directors:\",\"\")\n",
    "\n",
    "    for i in range(10):\n",
    "        Director_and_star[0] = Director_and_star[0].replace(\"  \",\" \")\n",
    "    director = Director_and_star[0][1:]\n",
    "    stars = Director_and_star[1]\n",
    "    stars = stars.replace(\":\", \"\")\n",
    "\n",
    "    return director, stars\n"
   ]
  },
  {
   "cell_type": "code",
   "execution_count": 5,
   "metadata": {},
   "outputs": [],
   "source": [
    "def votes_and_gross_converter(votes_and_gross):\n",
    "    votes_and_gross_list = []\n",
    "\n",
    "    # Parcours chaque élément de la liste d'objets BeautifulSoup\n",
    "    for i in votes_and_gross:\n",
    "        # Ajoute le texte de l'élément à la liste\n",
    "        votes_and_gross_list.append(i.text)\n",
    "\n",
    "    # Vérifie la longueur de la liste\n",
    "    if len(votes_and_gross) == 2:\n",
    "        # Si la liste contient deux éléments, le premier est le nombre de votes, et le deuxième est le montant brut\n",
    "        votes = votes_and_gross_list[0]\n",
    "        gross = votes_and_gross_list[1]\n",
    "    else:\n",
    "        # Si la liste ne contient qu'un élément, il s'agit du nombre de votes, et le montant brut est défini sur None\n",
    "        votes = votes_and_gross_list[0]\n",
    "        gross = None\n",
    "    \n",
    "    # Retourne le nombre de votes et le montant brut\n",
    "    return votes, gross\n",
    "\n"
   ]
  },
  {
   "cell_type": "code",
   "execution_count": 7,
   "metadata": {},
   "outputs": [
    {
     "name": "stderr",
     "output_type": "stream",
     "text": [
      "100%|██████████████████████████████████████████████████████████████████████████████████| 10/10 [01:29<00:00,  9.00s/it]\n"
     ]
    }
   ],
   "source": [
    "main_array = []\n",
    "for url in tqdm(all_page_link(\"https://www.imdb.com/list/ls098063263/?sort=moviemeter,asc&st_dt=&mode=detail&page=1\")):     #Runs the function for all the pages.\n",
    "    soup = BeautifulSoup(requests.get(url).text,\"html.parser\")         \n",
    "    for link in soup.find_all(class_='lister-item-content'):\n",
    "        id_text = link.find('span', {\"class\": \"lister-item-index unbold text-primary\"}).text[:-1]\n",
    "        id = int(id_text.replace(\",\", \"\"))\n",
    "\n",
    "        name = link.find('a').text\n",
    "        year = link.find('span',{\"class\":\"lister-item-year text-muted unbold\"}).text[1:5]\n",
    "        run_time = link.find('span',{\"class\":\"runtime\"}).text\n",
    "        genre = link.find('span',{\"class\":\"genre\"}).text[1:]\n",
    "        rating = link.find('span',{\"class\":\"ipl-rating-star__rating\"}).text\n",
    "        about = link.find_all('p')[1].text[5:]\n",
    "        director,actors = director_and_actor(link.find_all('p',{\"class\":\"text-muted text-small\"})[1].text)\n",
    "        votes, gross = votes_and_gross_conveter(link.find_all('span',{\"name\":\"nv\"}))\n",
    "        votes = int(votes.replace(\",\",\"\"))\n",
    "        list_of_all = [id,name,year,run_time,genre,rating,about,director,actors,votes,gross]\n",
    "        main_array.append(list_of_all)"
   ]
  },
  {
   "cell_type": "code",
   "execution_count": 8,
   "metadata": {},
   "outputs": [],
   "source": [
    "\n",
    "index = [\"id\",\"name\",\"year\",\"run_time\",\"genre\",\"rating\",\"about\",\"director\",\"actors\",\"votes\",\"gross\"]"
   ]
  },
  {
   "cell_type": "code",
   "execution_count": 9,
   "metadata": {},
   "outputs": [],
   "source": [
    "df = pd.DataFrame(main_array,columns=index)  "
   ]
  },
  {
   "cell_type": "code",
   "execution_count": 10,
   "metadata": {},
   "outputs": [
    {
     "data": {
      "text/html": [
       "<div>\n",
       "<style scoped>\n",
       "    .dataframe tbody tr th:only-of-type {\n",
       "        vertical-align: middle;\n",
       "    }\n",
       "\n",
       "    .dataframe tbody tr th {\n",
       "        vertical-align: top;\n",
       "    }\n",
       "\n",
       "    .dataframe thead th {\n",
       "        text-align: right;\n",
       "    }\n",
       "</style>\n",
       "<table border=\"1\" class=\"dataframe\">\n",
       "  <thead>\n",
       "    <tr style=\"text-align: right;\">\n",
       "      <th></th>\n",
       "      <th>id</th>\n",
       "      <th>name</th>\n",
       "      <th>year</th>\n",
       "      <th>run_time</th>\n",
       "      <th>genre</th>\n",
       "      <th>rating</th>\n",
       "      <th>about</th>\n",
       "      <th>director</th>\n",
       "      <th>actors</th>\n",
       "      <th>votes</th>\n",
       "      <th>gross</th>\n",
       "    </tr>\n",
       "  </thead>\n",
       "  <tbody>\n",
       "    <tr>\n",
       "      <th>0</th>\n",
       "      <td>1</td>\n",
       "      <td>Oppenheimer</td>\n",
       "      <td>I) (</td>\n",
       "      <td>180 min</td>\n",
       "      <td>Biography, Drama, History</td>\n",
       "      <td>8.4</td>\n",
       "      <td>story of American scientist, J. Robert Oppenhe...</td>\n",
       "      <td>Christopher Nolan</td>\n",
       "      <td>Cillian Murphy, Emily Blunt, Matt Damon, Rober...</td>\n",
       "      <td>547233</td>\n",
       "      <td>None</td>\n",
       "    </tr>\n",
       "    <tr>\n",
       "      <th>1</th>\n",
       "      <td>2</td>\n",
       "      <td>Indiana Jones and the Dial of Destiny</td>\n",
       "      <td>2023</td>\n",
       "      <td>154 min</td>\n",
       "      <td>Action, Adventure, Sci-Fi</td>\n",
       "      <td>6.6</td>\n",
       "      <td>aeologist Indiana Jones races against time to ...</td>\n",
       "      <td>James Mangold</td>\n",
       "      <td>Harrison Ford, Phoebe Waller-Bridge, Antonio B...</td>\n",
       "      <td>152583</td>\n",
       "      <td>None</td>\n",
       "    </tr>\n",
       "    <tr>\n",
       "      <th>2</th>\n",
       "      <td>3</td>\n",
       "      <td>Home Alone</td>\n",
       "      <td>1990</td>\n",
       "      <td>103 min</td>\n",
       "      <td>Comedy, Family</td>\n",
       "      <td>7.7</td>\n",
       "      <td>ight-year-old troublemaker, mistakenly left ho...</td>\n",
       "      <td>Chris Columbus</td>\n",
       "      <td>Macaulay Culkin, Joe Pesci, Daniel Stern, John...</td>\n",
       "      <td>626006</td>\n",
       "      <td>$285.76M</td>\n",
       "    </tr>\n",
       "    <tr>\n",
       "      <th>3</th>\n",
       "      <td>4</td>\n",
       "      <td>Love Actually</td>\n",
       "      <td>2003</td>\n",
       "      <td>135 min</td>\n",
       "      <td>Comedy, Drama, Romance</td>\n",
       "      <td>7.6</td>\n",
       "      <td>ows the lives of eight very different couples ...</td>\n",
       "      <td>Richard Curtis</td>\n",
       "      <td>Hugh Grant, Martine McCutcheon, Liam Neeson, L...</td>\n",
       "      <td>514724</td>\n",
       "      <td>$59.70M</td>\n",
       "    </tr>\n",
       "    <tr>\n",
       "      <th>4</th>\n",
       "      <td>5</td>\n",
       "      <td>Elf</td>\n",
       "      <td>2003</td>\n",
       "      <td>97 min</td>\n",
       "      <td>Adventure, Comedy, Family</td>\n",
       "      <td>7.1</td>\n",
       "      <td>ed as an oversized elf, Buddy travels from the...</td>\n",
       "      <td>Jon Favreau</td>\n",
       "      <td>Will Ferrell, James Caan, Bob Newhart, Zooey D...</td>\n",
       "      <td>298236</td>\n",
       "      <td>$173.40M</td>\n",
       "    </tr>\n",
       "  </tbody>\n",
       "</table>\n",
       "</div>"
      ],
      "text/plain": [
       "   id                                   name  year run_time  \\\n",
       "0   1                            Oppenheimer  I) (  180 min   \n",
       "1   2  Indiana Jones and the Dial of Destiny  2023  154 min   \n",
       "2   3                             Home Alone  1990  103 min   \n",
       "3   4                          Love Actually  2003  135 min   \n",
       "4   5                                    Elf  2003   97 min   \n",
       "\n",
       "                                   genre rating  \\\n",
       "0  Biography, Drama, History                8.4   \n",
       "1  Action, Adventure, Sci-Fi                6.6   \n",
       "2             Comedy, Family                7.7   \n",
       "3     Comedy, Drama, Romance                7.6   \n",
       "4  Adventure, Comedy, Family                7.1   \n",
       "\n",
       "                                               about            director  \\\n",
       "0  story of American scientist, J. Robert Oppenhe...  Christopher Nolan    \n",
       "1  aeologist Indiana Jones races against time to ...      James Mangold    \n",
       "2  ight-year-old troublemaker, mistakenly left ho...     Chris Columbus    \n",
       "3  ows the lives of eight very different couples ...     Richard Curtis    \n",
       "4  ed as an oversized elf, Buddy travels from the...        Jon Favreau    \n",
       "\n",
       "                                              actors   votes     gross  \n",
       "0  Cillian Murphy, Emily Blunt, Matt Damon, Rober...  547233      None  \n",
       "1  Harrison Ford, Phoebe Waller-Bridge, Antonio B...  152583      None  \n",
       "2  Macaulay Culkin, Joe Pesci, Daniel Stern, John...  626006  $285.76M  \n",
       "3  Hugh Grant, Martine McCutcheon, Liam Neeson, L...  514724   $59.70M  \n",
       "4  Will Ferrell, James Caan, Bob Newhart, Zooey D...  298236  $173.40M  "
      ]
     },
     "execution_count": 10,
     "metadata": {},
     "output_type": "execute_result"
    }
   ],
   "source": [
    "df.head(5)"
   ]
  },
  {
   "cell_type": "code",
   "execution_count": 11,
   "metadata": {
    "scrolled": true
   },
   "outputs": [
    {
     "name": "stdout",
     "output_type": "stream",
     "text": [
      "<class 'pandas.core.frame.DataFrame'>\n",
      "RangeIndex: 1000 entries, 0 to 999\n",
      "Data columns (total 11 columns):\n",
      " #   Column    Non-Null Count  Dtype \n",
      "---  ------    --------------  ----- \n",
      " 0   id        1000 non-null   int64 \n",
      " 1   name      1000 non-null   object\n",
      " 2   year      1000 non-null   object\n",
      " 3   run_time  1000 non-null   object\n",
      " 4   genre     1000 non-null   object\n",
      " 5   rating    1000 non-null   object\n",
      " 6   about     1000 non-null   object\n",
      " 7   director  1000 non-null   object\n",
      " 8   actors    1000 non-null   object\n",
      " 9   votes     1000 non-null   int64 \n",
      " 10  gross     956 non-null    object\n",
      "dtypes: int64(2), object(9)\n",
      "memory usage: 86.1+ KB\n"
     ]
    }
   ],
   "source": [
    "df.info()"
   ]
  },
  {
   "cell_type": "markdown",
   "metadata": {},
   "source": [
    "## <b><u> fonction pour faire appel a la fonction pour enregistrer dans csv "
   ]
  },
  {
   "cell_type": "code",
   "execution_count": 12,
   "metadata": {},
   "outputs": [],
   "source": [
    "def DataFrame_to_csv():   \n",
    "    name = input(\"Enter le nom de ficheir que voulais stockes sinon va enregistrer sous nom \\\"top_1000_IMDb_movies.csv\\\" \")\n",
    "    if(name==\"\"):\n",
    "        print(\"votre nom de fichier est :-\",\"top_1000_IMDb_movies.csv\")\n",
    "        df.to_csv(\"top_1000_IMDb_movies.csv\")\n",
    "    elif(name[-4:] == \".csv\"):\n",
    "        print(\" votre nom de fichier est:-\",name)\n",
    "        df.to_csv(name)\n",
    "    else:\n",
    "        print(\"votre nom de fichier est :-\",(name+\".csv\"))\n",
    "        df.to_csv(name+\".csv\")"
   ]
  },
  {
   "cell_type": "code",
   "execution_count": 14,
   "metadata": {},
   "outputs": [
    {
     "name": "stdin",
     "output_type": "stream",
     "text": [
      "Enter the name that you wantto give to the csv file. If no input is given the csv file will take a name as \"top_1000_IMDb_movies.csv\"  \n"
     ]
    },
    {
     "name": "stdout",
     "output_type": "stream",
     "text": [
      "Your File Name is :- top_1000_IMDb_movies.csv\n"
     ]
    }
   ],
   "source": [
    "DataFrame_to_csv()"
   ]
  },
  {
   "cell_type": "code",
   "execution_count": 15,
   "metadata": {},
   "outputs": [
    {
     "name": "stdin",
     "output_type": "stream",
     "text": [
      "Enter the name that you wantto give to the csv file. If no input is given the csv file will take a name as \"top_1000_IMDb_movies.csv\"  \n"
     ]
    },
    {
     "name": "stdout",
     "output_type": "stream",
     "text": [
      "Your File Name is :- top_1000_IMDb_movies.csv\n"
     ]
    }
   ],
   "source": [
    "DataFrame_to_csv()"
   ]
  },
  {
   "cell_type": "code",
   "execution_count": 18,
   "metadata": {},
   "outputs": [
    {
     "name": "stdin",
     "output_type": "stream",
     "text": [
      "Enter the name that you wantto give to the csv file. If no input is given the csv file will take a name as \"top_1000_IMDb_movies.csv\"  \n"
     ]
    },
    {
     "name": "stdout",
     "output_type": "stream",
     "text": [
      "Your File Name is :- top_1000_IMDb_movies.csv\n"
     ]
    }
   ],
   "source": [
    "DataFrame_to_csv()"
   ]
  },
  {
   "cell_type": "code",
   "execution_count": null,
   "metadata": {},
   "outputs": [],
   "source": []
  }
 ],
 "metadata": {
  "kernelspec": {
   "display_name": "Python 3 (ipykernel)",
   "language": "python",
   "name": "python3"
  },
  "language_info": {
   "codemirror_mode": {
    "name": "ipython",
    "version": 3
   },
   "file_extension": ".py",
   "mimetype": "text/x-python",
   "name": "python",
   "nbconvert_exporter": "python",
   "pygments_lexer": "ipython3",
   "version": "3.12.0"
  }
 },
 "nbformat": 4,
 "nbformat_minor": 4
}
